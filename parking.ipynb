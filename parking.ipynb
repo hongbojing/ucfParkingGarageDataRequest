{
 "cells": [
  {
   "cell_type": "code",
   "execution_count": 163,
   "metadata": {},
   "outputs": [
    {
     "name": "stdout",
     "output_type": "stream",
     "text": [
      "start time:start_time: 2018-09-19 13:49:35.607929 - 2018-09-19 13:49:35.611865\n",
      "already collect1\n",
      "  empty          name  total                       time\n",
      "0   178      Garage A   1623 2018-09-19 13:49:35.672256\n",
      "1    74      Garage B   1259 2018-09-19 13:49:35.672256\n",
      "2   103      Garage C   1852 2018-09-19 13:49:35.672256\n",
      "3    96      Garage D   1241 2018-09-19 13:49:35.672256\n",
      "4    29      Garage H   1284 2018-09-19 13:49:35.672256\n",
      "5    82      Garage I   1231 2018-09-19 13:49:35.672256\n",
      "6    76  Garage Libra   1007 2018-09-19 13:49:35.672256\n"
     ]
    },
    {
     "ename": "KeyboardInterrupt",
     "evalue": "",
     "output_type": "error",
     "traceback": [
      "\u001b[0;31m---------------------------------------------------------------------------\u001b[0m",
      "\u001b[0;31mKeyboardInterrupt\u001b[0m                         Traceback (most recent call last)",
      "\u001b[0;32m<ipython-input-163-fe1f6ad1a035>\u001b[0m in \u001b[0;36m<module>\u001b[0;34m()\u001b[0m\n\u001b[1;32m     80\u001b[0m     \u001b[0;32mprint\u001b[0m \u001b[0mdata\u001b[0m\u001b[0;34m\u001b[0m\u001b[0m\n\u001b[1;32m     81\u001b[0m     \u001b[0mdata\u001b[0m\u001b[0;34m.\u001b[0m\u001b[0mto_csv\u001b[0m\u001b[0;34m(\u001b[0m\u001b[0;34m'data/parking/parkingRaw.csv'\u001b[0m\u001b[0;34m,\u001b[0m \u001b[0mmode\u001b[0m\u001b[0;34m=\u001b[0m\u001b[0;34m'a'\u001b[0m\u001b[0;34m,\u001b[0m \u001b[0mheader\u001b[0m\u001b[0;34m=\u001b[0m\u001b[0mFalse\u001b[0m\u001b[0;34m)\u001b[0m\u001b[0;34m\u001b[0m\u001b[0m\n\u001b[0;32m---> 82\u001b[0;31m     \u001b[0mtime\u001b[0m\u001b[0;34m.\u001b[0m\u001b[0msleep\u001b[0m\u001b[0;34m(\u001b[0m\u001b[0;36m60\u001b[0m\u001b[0;34m)\u001b[0m\u001b[0;34m\u001b[0m\u001b[0m\n\u001b[0m\u001b[1;32m     83\u001b[0m     \u001b[0;31m#os.system( 'cls' )\u001b[0m\u001b[0;34m\u001b[0m\u001b[0;34m\u001b[0m\u001b[0m\n",
      "\u001b[0;31mKeyboardInterrupt\u001b[0m: "
     ]
    }
   ],
   "source": [
    "from lxml import html\n",
    "import requests\n",
    "import re\n",
    "import pandas as pd\n",
    "import os\n",
    "import csv\n",
    "from IPython.display import clear_output\n",
    "import datetime\n",
    "import matplotlib.pyplot as plt\n",
    "import time\n",
    "def get_data(url):\n",
    "    page = requests.get(url)\n",
    "    tree = html.fromstring(page.content)\n",
    "    garage=[]\n",
    "    garageName=[]\n",
    "    garageTotalSpace=[]\n",
    "\n",
    "    #This will create a list of buyers:\n",
    "    name = tree.xpath('//td[@class=\"dxgv\"]/text()')\n",
    "    space = tree.xpath('//td[@class=\"dxgv\"]/strong/text()')\n",
    "    results = map(int, space)\n",
    "    for row in name:\n",
    "        #match = re.search(r'\\bGarage\\b',row)\n",
    "        if \"Garage\" in row:\n",
    "            garageName.append(row)\n",
    "\n",
    "        elif any(char.isdigit() for char in row):\n",
    "            rowNumebr=int(filter(str.isdigit, row))\n",
    "            garageTotalSpace.append(rowNumebr)\n",
    "    garage.append(garageName)\n",
    "    garage.append(space)\n",
    "    garage.append(garageTotalSpace)\n",
    "    df = pd.DataFrame({\n",
    "    'name':garageName,\n",
    "    'empty':space,\n",
    "    'total':garageTotalSpace\n",
    "})\n",
    "    return df \n",
    "#-----------------------------main----------------------------------------------\n",
    "\n",
    "url='http://secure.parking.ucf.edu/GarageCount/'\n",
    "data=get_data(url)\n",
    "start_time=datetime.datetime.now()\n",
    "#create folder\n",
    "if os.path.exists('data'):\n",
    "    print(\"file data exist\")\n",
    "else:\n",
    "    print(\"file data not exist,created\")\n",
    "    os.mkdir('data')\n",
    "if os.path.exists('data/parking'):\n",
    "    print(\"file data/parking exist\")\n",
    "else:\n",
    "    os.mkdir('data/parking')\n",
    "    print(\"file data/parking not exist,created\")\n",
    "csvKeys=[\"index\",\n",
    "         \"empty\",\n",
    "        'name', \n",
    "        'total',\n",
    "        'time' ]   \n",
    "if os.path.exists('data/parking/parkingRaw.csv'):\n",
    "    print(\"file data/parking/parkingRaw.csv exist\")\n",
    "else:\n",
    "    with open('data/parking/parkingRaw.csv', 'wb') as outcsv:\n",
    "        writer = csv.DictWriter(outcsv, fieldnames = csvKeys)\n",
    "        writer.writeheader()\n",
    "        \n",
    "    outcsv.close()\n",
    "    print(\"file data/parking/parkingRaw.csv not exist,created\")\n",
    "counter=0\n",
    "\n",
    "while True:\n",
    "    counter+=1\n",
    "    clear_output(wait=True)\n",
    "    temp_time=datetime.datetime.now()\n",
    "    print(\"start time:\"+str(start_time) +\" - \"+str(temp_time))\n",
    "    print(\"already collected : \"+str(counter))\n",
    "    url='http://secure.parking.ucf.edu/GarageCount/'\n",
    "    data=get_data(url)\n",
    "    data['time'] = datetime.datetime.now()\n",
    "    print data\n",
    "    data.to_csv('data/parking/parkingRaw.csv', mode='a', header=False)\n",
    "    time.sleep(60)\n",
    "    #os.system( 'cls' )"
   ]
  },
  {
   "cell_type": "code",
   "execution_count": 122,
   "metadata": {},
   "outputs": [
    {
     "data": {
      "text/plain": [
       "0    10.0\n",
       "1    22.0\n",
       "2     9.0\n",
       "3     0.0\n",
       "4     0.0\n",
       "5     6.0\n",
       "6    48.0\n",
       "Name: empty, dtype: float64"
      ]
     },
     "execution_count": 122,
     "metadata": {},
     "output_type": "execute_result"
    }
   ],
   "source": [
    "\n"
   ]
  }
 ],
 "metadata": {
  "kernelspec": {
   "display_name": "Python 2",
   "language": "python",
   "name": "python2"
  },
  "language_info": {
   "codemirror_mode": {
    "name": "ipython",
    "version": 2
   },
   "file_extension": ".py",
   "mimetype": "text/x-python",
   "name": "python",
   "nbconvert_exporter": "python",
   "pygments_lexer": "ipython2",
   "version": "2.7.15"
  }
 },
 "nbformat": 4,
 "nbformat_minor": 2
}
